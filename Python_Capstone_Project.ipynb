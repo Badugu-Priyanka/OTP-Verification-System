{
  "nbformat": 4,
  "nbformat_minor": 0,
  "metadata": {
    "colab": {
      "provenance": []
    },
    "kernelspec": {
      "name": "python3",
      "display_name": "Python 3"
    },
    "language_info": {
      "name": "python"
    }
  },
  "cells": [
    {
      "cell_type": "code",
      "execution_count": 24,
      "metadata": {
        "colab": {
          "base_uri": "https://localhost:8080/"
        },
        "id": "9ysDAQTyaCcV",
        "outputId": "9cfd072e-f2c1-4bae-933a-1dc485175b2e"
      },
      "outputs": [
        {
          "output_type": "stream",
          "name": "stdout",
          "text": [
            "Enter your email address: badugu.priyanka9966@gmail.com\n",
            "OTP Sent Successfully.\n",
            "Enter the OTP sent to your email: \n",
            "OTP cannot be empty.\n",
            "Enter the OTP sent to your email: 939366\n",
            "Access granted.\n"
          ]
        }
      ],
      "source": [
        "import random\n",
        "import smtplib\n",
        "from email.message import EmailMessage\n",
        "\n",
        "def generate_otp():\n",
        "  # Generate a 6-digit random OTP.\n",
        "  generate_otp = ''\n",
        "  for i in range(6):\n",
        "    generate_otp = generate_otp + str(random.randint(0,9))\n",
        "  return generate_otp\n",
        "\n",
        "def send_email(to_mail, otp):\n",
        "  # Simulate sending the OTP to the user's email address.\n",
        "  try:\n",
        "    server = smtplib.SMTP('smtp.gmail.com',587)\n",
        "    server.starttls()\n",
        "    from_mail = 'badugu.priyanka9966@gmail.com'\n",
        "    server.login(from_mail, 'epos zngh yaqu gzpd')\n",
        "\n",
        "  # Creating email message.\n",
        "    msg = EmailMessage()\n",
        "    msg[\"Subject\"] = \"OTP Verification\"\n",
        "    msg[\"To\"] = to_mail\n",
        "    msg[\"From\"] = from_mail\n",
        "    msg.set_content(f\"Your OTP is: {otp}\")\n",
        "\n",
        "  # Sending email.\n",
        "    server.send_message(msg)\n",
        "    print(\"OTP Sent Successfully.\")\n",
        "    return True\n",
        "  except Exception as e:\n",
        "    print(f\"Error sending email: {e}\")\n",
        "    return False\n",
        "\n",
        "def user_input():\n",
        "  # Prompt the user to enter the OTP received in their email.\n",
        "  return input(\"Enter the OTP sent to your email: \")\n",
        "\n",
        "def verify_otp(otp, user_input):\n",
        "  # Verify if the user entered OTP matches the generated OTP.\n",
        "  return otp == user_input\n",
        "\n",
        "def main():\n",
        "  # Main function.\n",
        "  #Prompt user to enter email address.\n",
        "  to_mail = input(\"Enter your email address: \")\n",
        "\n",
        "  # Generate and send OTP\n",
        "  generated_otp = generate_otp()\n",
        "  email_sent = send_email(to_mail, generated_otp)\n",
        "\n",
        "  if email_sent:\n",
        "    # Prompt user to enter OTP and verify.\n",
        "    attempts = 3\n",
        "    while attempts > 0:\n",
        "      otp_entered = user_input()\n",
        "      if verify_otp(generated_otp, otp_entered):\n",
        "        print(\"Access granted.\")\n",
        "        break\n",
        "      elif not otp_entered:\n",
        "        print(\"OTP cannot be empty.\")\n",
        "      elif not otp_entered.isdigit():\n",
        "        print(\"OTP must be numeric.\")\n",
        "      else:\n",
        "        attempts = attempts - 1\n",
        "        print(f\"Incorrect OTP. You have {attempts} attempt(s) left.\")\n",
        "    else:\n",
        "      print(\"Access denied. Too many incorrect attempts.\")\n",
        "  else:\n",
        "    print(\"Failed to send OTP. Please check the email address and try again.\")\n",
        "\n",
        "if __name__ == \"__main__\":\n",
        "  main()"
      ]
    }
  ]
}